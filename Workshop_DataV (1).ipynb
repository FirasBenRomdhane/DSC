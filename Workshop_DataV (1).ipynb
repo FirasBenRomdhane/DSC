{
  "nbformat": 4,
  "nbformat_minor": 0,
  "metadata": {
    "colab": {
      "name": "Workshop_DataV.ipynb",
      "provenance": [],
      "collapsed_sections": []
    },
    "kernelspec": {
      "name": "python3",
      "display_name": "Python 3"
    }
  },
  "cells": [
    {
      "cell_type": "code",
      "metadata": {
        "id": "BxdSBCMpuxV4"
      },
      "source": [
        "import numpy as np\n",
        "import pandas as pd\n",
        "from google.colab import drive"
      ],
      "execution_count": 1,
      "outputs": []
    },
    {
      "cell_type": "code",
      "metadata": {
        "colab": {
          "base_uri": "https://localhost:8080/"
        },
        "id": "K74rm3VB0duC",
        "outputId": "2f347041-899d-4f13-bd07-40ebffce9efd"
      },
      "source": [
        "drive.mount(\"/content/drive/\")"
      ],
      "execution_count": 2,
      "outputs": [
        {
          "output_type": "stream",
          "text": [
            "Mounted at /content/drive/\n"
          ],
          "name": "stdout"
        }
      ]
    },
    {
      "cell_type": "code",
      "metadata": {
        "colab": {
          "base_uri": "https://localhost:8080/"
        },
        "id": "FtI2gxtq03PN",
        "outputId": "65baf2cc-ba12-4420-d8ce-23b3eb12fe9b"
      },
      "source": [
        "df=pd.read_csv(\"/content/drive/MyDrive/Workshop/database.csv\")"
      ],
      "execution_count": 3,
      "outputs": [
        {
          "output_type": "stream",
          "text": [
            "/usr/local/lib/python3.6/dist-packages/IPython/core/interactiveshell.py:2718: DtypeWarning: Columns (16) have mixed types.Specify dtype option on import or set low_memory=False.\n",
            "  interactivity=interactivity, compiler=compiler, result=result)\n"
          ],
          "name": "stderr"
        }
      ]
    },
    {
      "cell_type": "code",
      "metadata": {
        "colab": {
          "base_uri": "https://localhost:8080/",
          "height": 366
        },
        "id": "TvePpv951H8T",
        "outputId": "da57caae-4fa9-4907-d3df-c700318d30e4"
      },
      "source": [
        "df.head()"
      ],
      "execution_count": 4,
      "outputs": [
        {
          "output_type": "execute_result",
          "data": {
            "text/html": [
              "<div>\n",
              "<style scoped>\n",
              "    .dataframe tbody tr th:only-of-type {\n",
              "        vertical-align: middle;\n",
              "    }\n",
              "\n",
              "    .dataframe tbody tr th {\n",
              "        vertical-align: top;\n",
              "    }\n",
              "\n",
              "    .dataframe thead th {\n",
              "        text-align: right;\n",
              "    }\n",
              "</style>\n",
              "<table border=\"1\" class=\"dataframe\">\n",
              "  <thead>\n",
              "    <tr style=\"text-align: right;\">\n",
              "      <th></th>\n",
              "      <th>Record ID</th>\n",
              "      <th>Agency Code</th>\n",
              "      <th>Agency Name</th>\n",
              "      <th>Agency Type</th>\n",
              "      <th>City</th>\n",
              "      <th>State</th>\n",
              "      <th>Year</th>\n",
              "      <th>Month</th>\n",
              "      <th>Incident</th>\n",
              "      <th>Crime Type</th>\n",
              "      <th>Crime Solved</th>\n",
              "      <th>Victim Sex</th>\n",
              "      <th>Victim Age</th>\n",
              "      <th>Victim Race</th>\n",
              "      <th>Victim Ethnicity</th>\n",
              "      <th>Perpetrator Sex</th>\n",
              "      <th>Perpetrator Age</th>\n",
              "      <th>Perpetrator Race</th>\n",
              "      <th>Perpetrator Ethnicity</th>\n",
              "      <th>Relationship</th>\n",
              "      <th>Weapon</th>\n",
              "      <th>Victim Count</th>\n",
              "      <th>Perpetrator Count</th>\n",
              "      <th>Record Source</th>\n",
              "    </tr>\n",
              "  </thead>\n",
              "  <tbody>\n",
              "    <tr>\n",
              "      <th>0</th>\n",
              "      <td>1</td>\n",
              "      <td>AK00101</td>\n",
              "      <td>Anchorage</td>\n",
              "      <td>Municipal Police</td>\n",
              "      <td>Anchorage</td>\n",
              "      <td>Alaska</td>\n",
              "      <td>1980</td>\n",
              "      <td>January</td>\n",
              "      <td>1</td>\n",
              "      <td>Murder or Manslaughter</td>\n",
              "      <td>Yes</td>\n",
              "      <td>Male</td>\n",
              "      <td>14</td>\n",
              "      <td>Native American/Alaska Native</td>\n",
              "      <td>Unknown</td>\n",
              "      <td>Male</td>\n",
              "      <td>15</td>\n",
              "      <td>Native American/Alaska Native</td>\n",
              "      <td>Unknown</td>\n",
              "      <td>Acquaintance</td>\n",
              "      <td>Blunt Object</td>\n",
              "      <td>0</td>\n",
              "      <td>0</td>\n",
              "      <td>FBI</td>\n",
              "    </tr>\n",
              "    <tr>\n",
              "      <th>1</th>\n",
              "      <td>2</td>\n",
              "      <td>AK00101</td>\n",
              "      <td>Anchorage</td>\n",
              "      <td>Municipal Police</td>\n",
              "      <td>Anchorage</td>\n",
              "      <td>Alaska</td>\n",
              "      <td>1980</td>\n",
              "      <td>March</td>\n",
              "      <td>1</td>\n",
              "      <td>Murder or Manslaughter</td>\n",
              "      <td>Yes</td>\n",
              "      <td>Male</td>\n",
              "      <td>43</td>\n",
              "      <td>White</td>\n",
              "      <td>Unknown</td>\n",
              "      <td>Male</td>\n",
              "      <td>42</td>\n",
              "      <td>White</td>\n",
              "      <td>Unknown</td>\n",
              "      <td>Acquaintance</td>\n",
              "      <td>Strangulation</td>\n",
              "      <td>0</td>\n",
              "      <td>0</td>\n",
              "      <td>FBI</td>\n",
              "    </tr>\n",
              "    <tr>\n",
              "      <th>2</th>\n",
              "      <td>3</td>\n",
              "      <td>AK00101</td>\n",
              "      <td>Anchorage</td>\n",
              "      <td>Municipal Police</td>\n",
              "      <td>Anchorage</td>\n",
              "      <td>Alaska</td>\n",
              "      <td>1980</td>\n",
              "      <td>March</td>\n",
              "      <td>2</td>\n",
              "      <td>Murder or Manslaughter</td>\n",
              "      <td>No</td>\n",
              "      <td>Female</td>\n",
              "      <td>30</td>\n",
              "      <td>Native American/Alaska Native</td>\n",
              "      <td>Unknown</td>\n",
              "      <td>Unknown</td>\n",
              "      <td>0</td>\n",
              "      <td>Unknown</td>\n",
              "      <td>Unknown</td>\n",
              "      <td>Unknown</td>\n",
              "      <td>Unknown</td>\n",
              "      <td>0</td>\n",
              "      <td>0</td>\n",
              "      <td>FBI</td>\n",
              "    </tr>\n",
              "    <tr>\n",
              "      <th>3</th>\n",
              "      <td>4</td>\n",
              "      <td>AK00101</td>\n",
              "      <td>Anchorage</td>\n",
              "      <td>Municipal Police</td>\n",
              "      <td>Anchorage</td>\n",
              "      <td>Alaska</td>\n",
              "      <td>1980</td>\n",
              "      <td>April</td>\n",
              "      <td>1</td>\n",
              "      <td>Murder or Manslaughter</td>\n",
              "      <td>Yes</td>\n",
              "      <td>Male</td>\n",
              "      <td>43</td>\n",
              "      <td>White</td>\n",
              "      <td>Unknown</td>\n",
              "      <td>Male</td>\n",
              "      <td>42</td>\n",
              "      <td>White</td>\n",
              "      <td>Unknown</td>\n",
              "      <td>Acquaintance</td>\n",
              "      <td>Strangulation</td>\n",
              "      <td>0</td>\n",
              "      <td>0</td>\n",
              "      <td>FBI</td>\n",
              "    </tr>\n",
              "    <tr>\n",
              "      <th>4</th>\n",
              "      <td>5</td>\n",
              "      <td>AK00101</td>\n",
              "      <td>Anchorage</td>\n",
              "      <td>Municipal Police</td>\n",
              "      <td>Anchorage</td>\n",
              "      <td>Alaska</td>\n",
              "      <td>1980</td>\n",
              "      <td>April</td>\n",
              "      <td>2</td>\n",
              "      <td>Murder or Manslaughter</td>\n",
              "      <td>No</td>\n",
              "      <td>Female</td>\n",
              "      <td>30</td>\n",
              "      <td>Native American/Alaska Native</td>\n",
              "      <td>Unknown</td>\n",
              "      <td>Unknown</td>\n",
              "      <td>0</td>\n",
              "      <td>Unknown</td>\n",
              "      <td>Unknown</td>\n",
              "      <td>Unknown</td>\n",
              "      <td>Unknown</td>\n",
              "      <td>0</td>\n",
              "      <td>1</td>\n",
              "      <td>FBI</td>\n",
              "    </tr>\n",
              "  </tbody>\n",
              "</table>\n",
              "</div>"
            ],
            "text/plain": [
              "   Record ID Agency Code  ... Perpetrator Count Record Source\n",
              "0          1     AK00101  ...                 0           FBI\n",
              "1          2     AK00101  ...                 0           FBI\n",
              "2          3     AK00101  ...                 0           FBI\n",
              "3          4     AK00101  ...                 0           FBI\n",
              "4          5     AK00101  ...                 1           FBI\n",
              "\n",
              "[5 rows x 24 columns]"
            ]
          },
          "metadata": {
            "tags": []
          },
          "execution_count": 4
        }
      ]
    },
    {
      "cell_type": "code",
      "metadata": {
        "colab": {
          "base_uri": "https://localhost:8080/"
        },
        "id": "PcvxiIZg1TNm",
        "outputId": "34677721-5e90-4ae6-cecf-f3d3dba96e71"
      },
      "source": [
        "df.info()"
      ],
      "execution_count": 5,
      "outputs": [
        {
          "output_type": "stream",
          "text": [
            "<class 'pandas.core.frame.DataFrame'>\n",
            "RangeIndex: 638454 entries, 0 to 638453\n",
            "Data columns (total 24 columns):\n",
            " #   Column                 Non-Null Count   Dtype \n",
            "---  ------                 --------------   ----- \n",
            " 0   Record ID              638454 non-null  int64 \n",
            " 1   Agency Code            638454 non-null  object\n",
            " 2   Agency Name            638454 non-null  object\n",
            " 3   Agency Type            638454 non-null  object\n",
            " 4   City                   638454 non-null  object\n",
            " 5   State                  638454 non-null  object\n",
            " 6   Year                   638454 non-null  int64 \n",
            " 7   Month                  638454 non-null  object\n",
            " 8   Incident               638454 non-null  int64 \n",
            " 9   Crime Type             638454 non-null  object\n",
            " 10  Crime Solved           638454 non-null  object\n",
            " 11  Victim Sex             638454 non-null  object\n",
            " 12  Victim Age             638454 non-null  int64 \n",
            " 13  Victim Race            638454 non-null  object\n",
            " 14  Victim Ethnicity       638454 non-null  object\n",
            " 15  Perpetrator Sex        638454 non-null  object\n",
            " 16  Perpetrator Age        638454 non-null  object\n",
            " 17  Perpetrator Race       638454 non-null  object\n",
            " 18  Perpetrator Ethnicity  638454 non-null  object\n",
            " 19  Relationship           638454 non-null  object\n",
            " 20  Weapon                 638454 non-null  object\n",
            " 21  Victim Count           638454 non-null  int64 \n",
            " 22  Perpetrator Count      638454 non-null  int64 \n",
            " 23  Record Source          638454 non-null  object\n",
            "dtypes: int64(6), object(18)\n",
            "memory usage: 116.9+ MB\n"
          ],
          "name": "stdout"
        }
      ]
    },
    {
      "cell_type": "code",
      "metadata": {
        "colab": {
          "base_uri": "https://localhost:8080/",
          "height": 284
        },
        "id": "YT7IHYA01-K6",
        "outputId": "39d68941-164d-4db8-82de-aefbd91038dc"
      },
      "source": [
        "df.describe()"
      ],
      "execution_count": 6,
      "outputs": [
        {
          "output_type": "execute_result",
          "data": {
            "text/html": [
              "<div>\n",
              "<style scoped>\n",
              "    .dataframe tbody tr th:only-of-type {\n",
              "        vertical-align: middle;\n",
              "    }\n",
              "\n",
              "    .dataframe tbody tr th {\n",
              "        vertical-align: top;\n",
              "    }\n",
              "\n",
              "    .dataframe thead th {\n",
              "        text-align: right;\n",
              "    }\n",
              "</style>\n",
              "<table border=\"1\" class=\"dataframe\">\n",
              "  <thead>\n",
              "    <tr style=\"text-align: right;\">\n",
              "      <th></th>\n",
              "      <th>Record ID</th>\n",
              "      <th>Year</th>\n",
              "      <th>Incident</th>\n",
              "      <th>Victim Age</th>\n",
              "      <th>Victim Count</th>\n",
              "      <th>Perpetrator Count</th>\n",
              "    </tr>\n",
              "  </thead>\n",
              "  <tbody>\n",
              "    <tr>\n",
              "      <th>count</th>\n",
              "      <td>638454.00000</td>\n",
              "      <td>638454.000000</td>\n",
              "      <td>638454.000000</td>\n",
              "      <td>638454.000000</td>\n",
              "      <td>638454.000000</td>\n",
              "      <td>638454.000000</td>\n",
              "    </tr>\n",
              "    <tr>\n",
              "      <th>mean</th>\n",
              "      <td>319227.50000</td>\n",
              "      <td>1995.801102</td>\n",
              "      <td>22.967924</td>\n",
              "      <td>35.033512</td>\n",
              "      <td>0.123334</td>\n",
              "      <td>0.185224</td>\n",
              "    </tr>\n",
              "    <tr>\n",
              "      <th>std</th>\n",
              "      <td>184305.93872</td>\n",
              "      <td>9.927693</td>\n",
              "      <td>92.149821</td>\n",
              "      <td>41.628306</td>\n",
              "      <td>0.537733</td>\n",
              "      <td>0.585496</td>\n",
              "    </tr>\n",
              "    <tr>\n",
              "      <th>min</th>\n",
              "      <td>1.00000</td>\n",
              "      <td>1980.000000</td>\n",
              "      <td>0.000000</td>\n",
              "      <td>0.000000</td>\n",
              "      <td>0.000000</td>\n",
              "      <td>0.000000</td>\n",
              "    </tr>\n",
              "    <tr>\n",
              "      <th>25%</th>\n",
              "      <td>159614.25000</td>\n",
              "      <td>1987.000000</td>\n",
              "      <td>1.000000</td>\n",
              "      <td>22.000000</td>\n",
              "      <td>0.000000</td>\n",
              "      <td>0.000000</td>\n",
              "    </tr>\n",
              "    <tr>\n",
              "      <th>50%</th>\n",
              "      <td>319227.50000</td>\n",
              "      <td>1995.000000</td>\n",
              "      <td>2.000000</td>\n",
              "      <td>30.000000</td>\n",
              "      <td>0.000000</td>\n",
              "      <td>0.000000</td>\n",
              "    </tr>\n",
              "    <tr>\n",
              "      <th>75%</th>\n",
              "      <td>478840.75000</td>\n",
              "      <td>2004.000000</td>\n",
              "      <td>10.000000</td>\n",
              "      <td>42.000000</td>\n",
              "      <td>0.000000</td>\n",
              "      <td>0.000000</td>\n",
              "    </tr>\n",
              "    <tr>\n",
              "      <th>max</th>\n",
              "      <td>638454.00000</td>\n",
              "      <td>2014.000000</td>\n",
              "      <td>999.000000</td>\n",
              "      <td>998.000000</td>\n",
              "      <td>10.000000</td>\n",
              "      <td>10.000000</td>\n",
              "    </tr>\n",
              "  </tbody>\n",
              "</table>\n",
              "</div>"
            ],
            "text/plain": [
              "          Record ID           Year  ...   Victim Count  Perpetrator Count\n",
              "count  638454.00000  638454.000000  ...  638454.000000      638454.000000\n",
              "mean   319227.50000    1995.801102  ...       0.123334           0.185224\n",
              "std    184305.93872       9.927693  ...       0.537733           0.585496\n",
              "min         1.00000    1980.000000  ...       0.000000           0.000000\n",
              "25%    159614.25000    1987.000000  ...       0.000000           0.000000\n",
              "50%    319227.50000    1995.000000  ...       0.000000           0.000000\n",
              "75%    478840.75000    2004.000000  ...       0.000000           0.000000\n",
              "max    638454.00000    2014.000000  ...      10.000000          10.000000\n",
              "\n",
              "[8 rows x 6 columns]"
            ]
          },
          "metadata": {
            "tags": []
          },
          "execution_count": 6
        }
      ]
    },
    {
      "cell_type": "code",
      "metadata": {
        "colab": {
          "base_uri": "https://localhost:8080/",
          "height": 284
        },
        "id": "CBpNjHlo2EA6",
        "outputId": "94218760-cc20-430b-def1-c95fa59e940b"
      },
      "source": [
        "i=df[df['Victim Age']==998].index\n",
        "df.drop(i,inplace=True)\n",
        "df.describe()"
      ],
      "execution_count": 7,
      "outputs": [
        {
          "output_type": "execute_result",
          "data": {
            "text/html": [
              "<div>\n",
              "<style scoped>\n",
              "    .dataframe tbody tr th:only-of-type {\n",
              "        vertical-align: middle;\n",
              "    }\n",
              "\n",
              "    .dataframe tbody tr th {\n",
              "        vertical-align: top;\n",
              "    }\n",
              "\n",
              "    .dataframe thead th {\n",
              "        text-align: right;\n",
              "    }\n",
              "</style>\n",
              "<table border=\"1\" class=\"dataframe\">\n",
              "  <thead>\n",
              "    <tr style=\"text-align: right;\">\n",
              "      <th></th>\n",
              "      <th>Record ID</th>\n",
              "      <th>Year</th>\n",
              "      <th>Incident</th>\n",
              "      <th>Victim Age</th>\n",
              "      <th>Victim Count</th>\n",
              "      <th>Perpetrator Count</th>\n",
              "    </tr>\n",
              "  </thead>\n",
              "  <tbody>\n",
              "    <tr>\n",
              "      <th>count</th>\n",
              "      <td>637480.000000</td>\n",
              "      <td>637480.00000</td>\n",
              "      <td>637480.000000</td>\n",
              "      <td>637480.000000</td>\n",
              "      <td>637480.000000</td>\n",
              "      <td>637480.000000</td>\n",
              "    </tr>\n",
              "    <tr>\n",
              "      <th>mean</th>\n",
              "      <td>319114.850631</td>\n",
              "      <td>1995.79507</td>\n",
              "      <td>22.988102</td>\n",
              "      <td>33.562204</td>\n",
              "      <td>0.123303</td>\n",
              "      <td>0.185308</td>\n",
              "    </tr>\n",
              "    <tr>\n",
              "      <th>std</th>\n",
              "      <td>184279.143474</td>\n",
              "      <td>9.92599</td>\n",
              "      <td>92.213585</td>\n",
              "      <td>17.792594</td>\n",
              "      <td>0.537756</td>\n",
              "      <td>0.585502</td>\n",
              "    </tr>\n",
              "    <tr>\n",
              "      <th>min</th>\n",
              "      <td>1.000000</td>\n",
              "      <td>1980.00000</td>\n",
              "      <td>0.000000</td>\n",
              "      <td>0.000000</td>\n",
              "      <td>0.000000</td>\n",
              "      <td>0.000000</td>\n",
              "    </tr>\n",
              "    <tr>\n",
              "      <th>25%</th>\n",
              "      <td>159530.750000</td>\n",
              "      <td>1987.00000</td>\n",
              "      <td>1.000000</td>\n",
              "      <td>22.000000</td>\n",
              "      <td>0.000000</td>\n",
              "      <td>0.000000</td>\n",
              "    </tr>\n",
              "    <tr>\n",
              "      <th>50%</th>\n",
              "      <td>319054.500000</td>\n",
              "      <td>1995.00000</td>\n",
              "      <td>2.000000</td>\n",
              "      <td>30.000000</td>\n",
              "      <td>0.000000</td>\n",
              "      <td>0.000000</td>\n",
              "    </tr>\n",
              "    <tr>\n",
              "      <th>75%</th>\n",
              "      <td>478707.250000</td>\n",
              "      <td>2004.00000</td>\n",
              "      <td>10.000000</td>\n",
              "      <td>42.000000</td>\n",
              "      <td>0.000000</td>\n",
              "      <td>0.000000</td>\n",
              "    </tr>\n",
              "    <tr>\n",
              "      <th>max</th>\n",
              "      <td>638454.000000</td>\n",
              "      <td>2014.00000</td>\n",
              "      <td>999.000000</td>\n",
              "      <td>99.000000</td>\n",
              "      <td>10.000000</td>\n",
              "      <td>10.000000</td>\n",
              "    </tr>\n",
              "  </tbody>\n",
              "</table>\n",
              "</div>"
            ],
            "text/plain": [
              "           Record ID          Year  ...   Victim Count  Perpetrator Count\n",
              "count  637480.000000  637480.00000  ...  637480.000000      637480.000000\n",
              "mean   319114.850631    1995.79507  ...       0.123303           0.185308\n",
              "std    184279.143474       9.92599  ...       0.537756           0.585502\n",
              "min         1.000000    1980.00000  ...       0.000000           0.000000\n",
              "25%    159530.750000    1987.00000  ...       0.000000           0.000000\n",
              "50%    319054.500000    1995.00000  ...       0.000000           0.000000\n",
              "75%    478707.250000    2004.00000  ...       0.000000           0.000000\n",
              "max    638454.000000    2014.00000  ...      10.000000          10.000000\n",
              "\n",
              "[8 rows x 6 columns]"
            ]
          },
          "metadata": {
            "tags": []
          },
          "execution_count": 7
        }
      ]
    },
    {
      "cell_type": "code",
      "metadata": {
        "id": "0XOeaLLm25by"
      },
      "source": [
        "df=df.replace('Unknown',np.nan)"
      ],
      "execution_count": 8,
      "outputs": []
    },
    {
      "cell_type": "code",
      "metadata": {
        "colab": {
          "base_uri": "https://localhost:8080/"
        },
        "id": "JLNaHt9r3tQv",
        "outputId": "9dad0274-531e-479e-f1a3-9024b5a06bfe"
      },
      "source": [
        "df.isnull().sum()"
      ],
      "execution_count": 9,
      "outputs": [
        {
          "output_type": "execute_result",
          "data": {
            "text/plain": [
              "Record ID                     0\n",
              "Agency Code                   0\n",
              "Agency Name                  47\n",
              "Agency Type                   0\n",
              "City                          0\n",
              "State                         0\n",
              "Year                          0\n",
              "Month                         0\n",
              "Incident                      0\n",
              "Crime Type                    0\n",
              "Crime Solved                  0\n",
              "Victim Sex                  264\n",
              "Victim Age                    0\n",
              "Victim Race                5954\n",
              "Victim Ethnicity         367379\n",
              "Perpetrator Sex          189761\n",
              "Perpetrator Age               0\n",
              "Perpetrator Race         195437\n",
              "Perpetrator Ethnicity    445491\n",
              "Relationship             272210\n",
              "Weapon                    32769\n",
              "Victim Count                  0\n",
              "Perpetrator Count             0\n",
              "Record Source                 0\n",
              "dtype: int64"
            ]
          },
          "metadata": {
            "tags": []
          },
          "execution_count": 9
        }
      ]
    },
    {
      "cell_type": "code",
      "metadata": {
        "id": "KoJ5fimG8xJs"
      },
      "source": [
        "col=df.columns.values\n",
        "for x in col:\n",
        "  df[x]=df[x].fillna((df[x].mode()[0]))"
      ],
      "execution_count": 10,
      "outputs": []
    },
    {
      "cell_type": "code",
      "metadata": {
        "colab": {
          "base_uri": "https://localhost:8080/"
        },
        "id": "FrBcg-rO9dpY",
        "outputId": "0a717c8f-4b47-44e5-f695-7289ace0b8b9"
      },
      "source": [
        "df.isnull().sum()"
      ],
      "execution_count": 11,
      "outputs": [
        {
          "output_type": "execute_result",
          "data": {
            "text/plain": [
              "Record ID                0\n",
              "Agency Code              0\n",
              "Agency Name              0\n",
              "Agency Type              0\n",
              "City                     0\n",
              "State                    0\n",
              "Year                     0\n",
              "Month                    0\n",
              "Incident                 0\n",
              "Crime Type               0\n",
              "Crime Solved             0\n",
              "Victim Sex               0\n",
              "Victim Age               0\n",
              "Victim Race              0\n",
              "Victim Ethnicity         0\n",
              "Perpetrator Sex          0\n",
              "Perpetrator Age          0\n",
              "Perpetrator Race         0\n",
              "Perpetrator Ethnicity    0\n",
              "Relationship             0\n",
              "Weapon                   0\n",
              "Victim Count             0\n",
              "Perpetrator Count        0\n",
              "Record Source            0\n",
              "dtype: int64"
            ]
          },
          "metadata": {
            "tags": []
          },
          "execution_count": 11
        }
      ]
    },
    {
      "cell_type": "code",
      "metadata": {
        "colab": {
          "base_uri": "https://localhost:8080/",
          "height": 366
        },
        "id": "xPCm0Mxv9467",
        "outputId": "20fb8b0d-a5e5-4b5a-a2e5-a95be2e1274f"
      },
      "source": [
        "df.head()"
      ],
      "execution_count": 12,
      "outputs": [
        {
          "output_type": "execute_result",
          "data": {
            "text/html": [
              "<div>\n",
              "<style scoped>\n",
              "    .dataframe tbody tr th:only-of-type {\n",
              "        vertical-align: middle;\n",
              "    }\n",
              "\n",
              "    .dataframe tbody tr th {\n",
              "        vertical-align: top;\n",
              "    }\n",
              "\n",
              "    .dataframe thead th {\n",
              "        text-align: right;\n",
              "    }\n",
              "</style>\n",
              "<table border=\"1\" class=\"dataframe\">\n",
              "  <thead>\n",
              "    <tr style=\"text-align: right;\">\n",
              "      <th></th>\n",
              "      <th>Record ID</th>\n",
              "      <th>Agency Code</th>\n",
              "      <th>Agency Name</th>\n",
              "      <th>Agency Type</th>\n",
              "      <th>City</th>\n",
              "      <th>State</th>\n",
              "      <th>Year</th>\n",
              "      <th>Month</th>\n",
              "      <th>Incident</th>\n",
              "      <th>Crime Type</th>\n",
              "      <th>Crime Solved</th>\n",
              "      <th>Victim Sex</th>\n",
              "      <th>Victim Age</th>\n",
              "      <th>Victim Race</th>\n",
              "      <th>Victim Ethnicity</th>\n",
              "      <th>Perpetrator Sex</th>\n",
              "      <th>Perpetrator Age</th>\n",
              "      <th>Perpetrator Race</th>\n",
              "      <th>Perpetrator Ethnicity</th>\n",
              "      <th>Relationship</th>\n",
              "      <th>Weapon</th>\n",
              "      <th>Victim Count</th>\n",
              "      <th>Perpetrator Count</th>\n",
              "      <th>Record Source</th>\n",
              "    </tr>\n",
              "  </thead>\n",
              "  <tbody>\n",
              "    <tr>\n",
              "      <th>0</th>\n",
              "      <td>1</td>\n",
              "      <td>AK00101</td>\n",
              "      <td>Anchorage</td>\n",
              "      <td>Municipal Police</td>\n",
              "      <td>Anchorage</td>\n",
              "      <td>Alaska</td>\n",
              "      <td>1980</td>\n",
              "      <td>January</td>\n",
              "      <td>1</td>\n",
              "      <td>Murder or Manslaughter</td>\n",
              "      <td>Yes</td>\n",
              "      <td>Male</td>\n",
              "      <td>14</td>\n",
              "      <td>Native American/Alaska Native</td>\n",
              "      <td>Not Hispanic</td>\n",
              "      <td>Male</td>\n",
              "      <td>15</td>\n",
              "      <td>Native American/Alaska Native</td>\n",
              "      <td>Not Hispanic</td>\n",
              "      <td>Acquaintance</td>\n",
              "      <td>Blunt Object</td>\n",
              "      <td>0</td>\n",
              "      <td>0</td>\n",
              "      <td>FBI</td>\n",
              "    </tr>\n",
              "    <tr>\n",
              "      <th>1</th>\n",
              "      <td>2</td>\n",
              "      <td>AK00101</td>\n",
              "      <td>Anchorage</td>\n",
              "      <td>Municipal Police</td>\n",
              "      <td>Anchorage</td>\n",
              "      <td>Alaska</td>\n",
              "      <td>1980</td>\n",
              "      <td>March</td>\n",
              "      <td>1</td>\n",
              "      <td>Murder or Manslaughter</td>\n",
              "      <td>Yes</td>\n",
              "      <td>Male</td>\n",
              "      <td>43</td>\n",
              "      <td>White</td>\n",
              "      <td>Not Hispanic</td>\n",
              "      <td>Male</td>\n",
              "      <td>42</td>\n",
              "      <td>White</td>\n",
              "      <td>Not Hispanic</td>\n",
              "      <td>Acquaintance</td>\n",
              "      <td>Strangulation</td>\n",
              "      <td>0</td>\n",
              "      <td>0</td>\n",
              "      <td>FBI</td>\n",
              "    </tr>\n",
              "    <tr>\n",
              "      <th>2</th>\n",
              "      <td>3</td>\n",
              "      <td>AK00101</td>\n",
              "      <td>Anchorage</td>\n",
              "      <td>Municipal Police</td>\n",
              "      <td>Anchorage</td>\n",
              "      <td>Alaska</td>\n",
              "      <td>1980</td>\n",
              "      <td>March</td>\n",
              "      <td>2</td>\n",
              "      <td>Murder or Manslaughter</td>\n",
              "      <td>No</td>\n",
              "      <td>Female</td>\n",
              "      <td>30</td>\n",
              "      <td>Native American/Alaska Native</td>\n",
              "      <td>Not Hispanic</td>\n",
              "      <td>Male</td>\n",
              "      <td>0</td>\n",
              "      <td>White</td>\n",
              "      <td>Not Hispanic</td>\n",
              "      <td>Acquaintance</td>\n",
              "      <td>Handgun</td>\n",
              "      <td>0</td>\n",
              "      <td>0</td>\n",
              "      <td>FBI</td>\n",
              "    </tr>\n",
              "    <tr>\n",
              "      <th>3</th>\n",
              "      <td>4</td>\n",
              "      <td>AK00101</td>\n",
              "      <td>Anchorage</td>\n",
              "      <td>Municipal Police</td>\n",
              "      <td>Anchorage</td>\n",
              "      <td>Alaska</td>\n",
              "      <td>1980</td>\n",
              "      <td>April</td>\n",
              "      <td>1</td>\n",
              "      <td>Murder or Manslaughter</td>\n",
              "      <td>Yes</td>\n",
              "      <td>Male</td>\n",
              "      <td>43</td>\n",
              "      <td>White</td>\n",
              "      <td>Not Hispanic</td>\n",
              "      <td>Male</td>\n",
              "      <td>42</td>\n",
              "      <td>White</td>\n",
              "      <td>Not Hispanic</td>\n",
              "      <td>Acquaintance</td>\n",
              "      <td>Strangulation</td>\n",
              "      <td>0</td>\n",
              "      <td>0</td>\n",
              "      <td>FBI</td>\n",
              "    </tr>\n",
              "    <tr>\n",
              "      <th>4</th>\n",
              "      <td>5</td>\n",
              "      <td>AK00101</td>\n",
              "      <td>Anchorage</td>\n",
              "      <td>Municipal Police</td>\n",
              "      <td>Anchorage</td>\n",
              "      <td>Alaska</td>\n",
              "      <td>1980</td>\n",
              "      <td>April</td>\n",
              "      <td>2</td>\n",
              "      <td>Murder or Manslaughter</td>\n",
              "      <td>No</td>\n",
              "      <td>Female</td>\n",
              "      <td>30</td>\n",
              "      <td>Native American/Alaska Native</td>\n",
              "      <td>Not Hispanic</td>\n",
              "      <td>Male</td>\n",
              "      <td>0</td>\n",
              "      <td>White</td>\n",
              "      <td>Not Hispanic</td>\n",
              "      <td>Acquaintance</td>\n",
              "      <td>Handgun</td>\n",
              "      <td>0</td>\n",
              "      <td>1</td>\n",
              "      <td>FBI</td>\n",
              "    </tr>\n",
              "  </tbody>\n",
              "</table>\n",
              "</div>"
            ],
            "text/plain": [
              "   Record ID Agency Code  ... Perpetrator Count Record Source\n",
              "0          1     AK00101  ...                 0           FBI\n",
              "1          2     AK00101  ...                 0           FBI\n",
              "2          3     AK00101  ...                 0           FBI\n",
              "3          4     AK00101  ...                 0           FBI\n",
              "4          5     AK00101  ...                 1           FBI\n",
              "\n",
              "[5 rows x 24 columns]"
            ]
          },
          "metadata": {
            "tags": []
          },
          "execution_count": 12
        }
      ]
    },
    {
      "cell_type": "code",
      "metadata": {
        "colab": {
          "base_uri": "https://localhost:8080/"
        },
        "id": "a4hhF1jp-EaC",
        "outputId": "a463eb6e-0442-4237-d17c-21d929f7841d"
      },
      "source": [
        "df['Victim Age'].value_counts()"
      ],
      "execution_count": 13,
      "outputs": [
        {
          "output_type": "execute_result",
          "data": {
            "text/plain": [
              "22    23049\n",
              "20    23031\n",
              "25    22939\n",
              "21    22796\n",
              "23    22438\n",
              "      ...  \n",
              "94      116\n",
              "95       82\n",
              "97       39\n",
              "96       37\n",
              "98       33\n",
              "Name: Victim Age, Length: 100, dtype: int64"
            ]
          },
          "metadata": {
            "tags": []
          },
          "execution_count": 13
        }
      ]
    },
    {
      "cell_type": "markdown",
      "metadata": {
        "id": "K5k46oDlnV_O"
      },
      "source": [
        "# **Data** **Visualisation**"
      ]
    },
    {
      "cell_type": "code",
      "metadata": {
        "id": "HzwfI84CiGM7"
      },
      "source": [
        "import seaborn as sns\n",
        "import matplotlib.pyplot as plt"
      ],
      "execution_count": 14,
      "outputs": []
    },
    {
      "cell_type": "markdown",
      "metadata": {
        "id": "_uz_BbSOoE9-"
      },
      "source": [
        "Let's start off with a simple countplot using seaborn"
      ]
    },
    {
      "cell_type": "code",
      "metadata": {
        "colab": {
          "base_uri": "https://localhost:8080/",
          "height": 296
        },
        "id": "pJMXRU_cuB0B",
        "outputId": "961894f1-4553-4f82-80af-63e9699571fc"
      },
      "source": [
        "sns.countplot(x='Victim Race',data=df)"
      ],
      "execution_count": 15,
      "outputs": [
        {
          "output_type": "execute_result",
          "data": {
            "text/plain": [
              "<matplotlib.axes._subplots.AxesSubplot at 0x7ff647738940>"
            ]
          },
          "metadata": {
            "tags": []
          },
          "execution_count": 15
        },
        {
          "output_type": "display_data",
          "data": {
            "image/png": "[encoded data removed]",
            "text/plain": [
              "<Figure size 432x288 with 1 Axes>"
            ]
          },
          "metadata": {
            "tags": [],
            "needs_background": "light"
          }
        }
      ]
    },
    {
      "cell_type": "markdown",
      "metadata": {
        "id": "zEU6tU_7uH2G"
      },
      "source": [
        "We use plt.figue to avoid overlapping x-axis labels."
      ]
    },
    {
      "cell_type": "code",
      "metadata": {
        "colab": {
          "base_uri": "https://localhost:8080/",
          "height": 279
        },
        "id": "s16xzvT2sm7A",
        "outputId": "9ff9b304-711f-4c3e-e1ba-9842d904ade5"
      },
      "source": [
        "plt.figure(figsize=(8,4))\n",
        "sns.countplot(x='Victim Race',data=df)\n",
        "plt.show()"
      ],
      "execution_count": 16,
      "outputs": [
        {
          "output_type": "display_data",
          "data": {
            "image/png": "[encoded data removed]",
            "text/plain": [
              "<Figure size 576x288 with 1 Axes>"
            ]
          },
          "metadata": {
            "tags": [],
            "needs_background": "light"
          }
        }
      ]
    },
    {
      "cell_type": "markdown",
      "metadata": {
        "id": "aeSJkYRhuSkw"
      },
      "source": [
        "We can also switch to Y-axis view"
      ]
    },
    {
      "cell_type": "code",
      "metadata": {
        "colab": {
          "base_uri": "https://localhost:8080/",
          "height": 296
        },
        "id": "0lexKkKNs4wc",
        "outputId": "25f979a4-fa68-4fac-c0ec-88b64940cee9"
      },
      "source": [
        "sns.countplot(y='Victim Race',data=df)"
      ],
      "execution_count": 17,
      "outputs": [
        {
          "output_type": "execute_result",
          "data": {
            "text/plain": [
              "<matplotlib.axes._subplots.AxesSubplot at 0x7ff6471ab278>"
            ]
          },
          "metadata": {
            "tags": []
          },
          "execution_count": 17
        },
        {
          "output_type": "display_data",
          "data": {
            "image/png": "[encoded data removed]",
            "text/plain": [
              "<Figure size 432x288 with 1 Axes>"
            ]
          },
          "metadata": {
            "tags": [],
            "needs_background": "light"
          }
        }
      ]
    },
    {
      "cell_type": "markdown",
      "metadata": {
        "id": "d89itI4JuawA"
      },
      "source": [
        "Now let's try adding another feature in the hue parameter(color encoding)"
      ]
    },
    {
      "cell_type": "code",
      "metadata": {
        "colab": {
          "base_uri": "https://localhost:8080/",
          "height": 296
        },
        "id": "LQ41isNVly6B",
        "outputId": "cc80fb8d-15b4-4f10-8d91-c664287ea13f"
      },
      "source": [
        "g=sns.countplot(y='Victim Race',hue='Victim Sex',palette={'red','blue'},data=df)\n",
        "g.legend(loc='center left', bbox_to_anchor=(1.25, 0.5), ncol=1)"
      ],
      "execution_count": 18,
      "outputs": [
        {
          "output_type": "execute_result",
          "data": {
            "text/plain": [
              "<matplotlib.legend.Legend at 0x7ff647169710>"
            ]
          },
          "metadata": {
            "tags": []
          },
          "execution_count": 18
        },
        {
          "output_type": "display_data",
          "data": {
            "image/png": "[encoded data removed]",
            "text/plain": [
              "<Figure size 432x288 with 1 Axes>"
            ]
          },
          "metadata": {
            "tags": [],
            "needs_background": "light"
          }
        }
      ]
    },
    {
      "cell_type": "code",
      "metadata": {
        "colab": {
          "base_uri": "https://localhost:8080/"
        },
        "id": "isVXC2c2mzGr",
        "outputId": "25f06ccf-8d30-4c84-9d60-22fb62a75c9c"
      },
      "source": [
        "df.info()"
      ],
      "execution_count": 19,
      "outputs": [
        {
          "output_type": "stream",
          "text": [
            "<class 'pandas.core.frame.DataFrame'>\n",
            "Int64Index: 637480 entries, 0 to 638453\n",
            "Data columns (total 24 columns):\n",
            " #   Column                 Non-Null Count   Dtype \n",
            "---  ------                 --------------   ----- \n",
            " 0   Record ID              637480 non-null  int64 \n",
            " 1   Agency Code            637480 non-null  object\n",
            " 2   Agency Name            637480 non-null  object\n",
            " 3   Agency Type            637480 non-null  object\n",
            " 4   City                   637480 non-null  object\n",
            " 5   State                  637480 non-null  object\n",
            " 6   Year                   637480 non-null  int64 \n",
            " 7   Month                  637480 non-null  object\n",
            " 8   Incident               637480 non-null  int64 \n",
            " 9   Crime Type             637480 non-null  object\n",
            " 10  Crime Solved           637480 non-null  object\n",
            " 11  Victim Sex             637480 non-null  object\n",
            " 12  Victim Age             637480 non-null  int64 \n",
            " 13  Victim Race            637480 non-null  object\n",
            " 14  Victim Ethnicity       637480 non-null  object\n",
            " 15  Perpetrator Sex        637480 non-null  object\n",
            " 16  Perpetrator Age        637480 non-null  object\n",
            " 17  Perpetrator Race       637480 non-null  object\n",
            " 18  Perpetrator Ethnicity  637480 non-null  object\n",
            " 19  Relationship           637480 non-null  object\n",
            " 20  Weapon                 637480 non-null  object\n",
            " 21  Victim Count           637480 non-null  int64 \n",
            " 22  Perpetrator Count      637480 non-null  int64 \n",
            " 23  Record Source          637480 non-null  object\n",
            "dtypes: int64(6), object(18)\n",
            "memory usage: 141.6+ MB\n"
          ],
          "name": "stdout"
        }
      ]
    },
    {
      "cell_type": "code",
      "metadata": {
        "colab": {
          "base_uri": "https://localhost:8080/"
        },
        "id": "cliAJWGUELwI",
        "outputId": "c60e31d5-f2cf-410e-ea12-9b68ff5c1003"
      },
      "source": [
        "filter=df[df['Perpetrator Age'].astype(str).str.isnumeric()==False].index\n",
        "df.drop(filter,inplace=True)\n",
        "df.shape"
      ],
      "execution_count": 20,
      "outputs": [
        {
          "output_type": "execute_result",
          "data": {
            "text/plain": [
              "(637479, 24)"
            ]
          },
          "metadata": {
            "tags": []
          },
          "execution_count": 20
        }
      ]
    },
    {
      "cell_type": "code",
      "metadata": {
        "id": "-Cl_eMgyFpK-"
      },
      "source": [
        "df['Perpetrator Age']=pd.to_numeric(df['Perpetrator Age'])\n"
      ],
      "execution_count": 21,
      "outputs": []
    },
    {
      "cell_type": "code",
      "metadata": {
        "colab": {
          "base_uri": "https://localhost:8080/"
        },
        "id": "66AjJ7tO7MYr",
        "outputId": "9fe1e146-60be-42ad-f75a-36b158da4c96"
      },
      "source": [
        "df['Perpetrator Age'].value_counts()"
      ],
      "execution_count": 22,
      "outputs": [
        {
          "output_type": "execute_result",
          "data": {
            "text/plain": [
              "0     215687\n",
              "20     21611\n",
              "19     20231\n",
              "21     18962\n",
              "18     18816\n",
              "       ...  \n",
              "95         9\n",
              "98         7\n",
              "96         7\n",
              "2          6\n",
              "97         3\n",
              "Name: Perpetrator Age, Length: 100, dtype: int64"
            ]
          },
          "metadata": {
            "tags": []
          },
          "execution_count": 22
        }
      ]
    },
    {
      "cell_type": "code",
      "metadata": {
        "colab": {
          "base_uri": "https://localhost:8080/"
        },
        "id": "hm0iaEZydu7m",
        "outputId": "2fbd2e83-cf60-48ab-cdec-3357ad247146"
      },
      "source": [
        "df['Crime Solved'].value_counts()"
      ],
      "execution_count": 23,
      "outputs": [
        {
          "output_type": "execute_result",
          "data": {
            "text/plain": [
              "Yes    447803\n",
              "No     189676\n",
              "Name: Crime Solved, dtype: int64"
            ]
          },
          "metadata": {
            "tags": []
          },
          "execution_count": 23
        }
      ]
    },
    {
      "cell_type": "markdown",
      "metadata": {
        "id": "Xv6_hrLP6dnZ"
      },
      "source": [
        "Let's try out some scatter plots"
      ]
    },
    {
      "cell_type": "code",
      "metadata": {
        "id": "iTwmVlnpcbIQ",
        "colab": {
          "base_uri": "https://localhost:8080/",
          "height": 374
        },
        "outputId": "e09bde77-5c86-4230-bc3c-22afa9f5bc3b"
      },
      "source": [
        "plt.figure(figsize=(12,6))\n",
        "sc=df[df['Victim Count']>0]\n",
        "plt.scatter(sc['Year'],sc['Victim Count'])\n",
        "plt.show()"
      ],
      "execution_count": 24,
      "outputs": [
        {
          "output_type": "display_data",
          "data": {
            "image/png": "[encoded data removed]",
            "text/plain": [
              "<Figure size 864x432 with 1 Axes>"
            ]
          },
          "metadata": {
            "tags": [],
            "needs_background": "light"
          }
        }
      ]
    },
    {
      "cell_type": "markdown",
      "metadata": {
        "id": "a2GDeBgTmAF_"
      },
      "source": [
        "Barplots"
      ]
    },
    {
      "cell_type": "code",
      "metadata": {
        "colab": {
          "base_uri": "https://localhost:8080/",
          "height": 442
        },
        "id": "BAb2GCaOj4Qs",
        "outputId": "244fbb66-a835-48ba-8514-ec81353a9659"
      },
      "source": [
        "plt.figure(figsize=(17,6))\n",
        "sns.barplot(sc['Weapon'],sc['Victim Count'])\n",
        "plt.show()"
      ],
      "execution_count": 25,
      "outputs": [
        {
          "output_type": "stream",
          "text": [
            "/usr/local/lib/python3.6/dist-packages/seaborn/_decorators.py:43: FutureWarning: Pass the following variables as keyword args: x, y. From version 0.12, the only valid positional argument will be `data`, and passing other arguments without an explicit keyword will result in an error or misinterpretation.\n",
            "  FutureWarning\n"
          ],
          "name": "stderr"
        },
        {
          "output_type": "display_data",
          "data": {
            "image/png": "[encoded data removed]",
            "text/plain": [
              "<Figure size 1224x432 with 1 Axes>"
            ]
          },
          "metadata": {
            "tags": [],
            "needs_background": "light"
          }
        }
      ]
    },
    {
      "cell_type": "markdown",
      "metadata": {
        "id": "J2FkZCJSmn4U"
      },
      "source": [
        "This barplot shows us the average of the victim count per weapon"
      ]
    },
    {
      "cell_type": "code",
      "metadata": {
        "id": "-AQKM-2ynGuE",
        "colab": {
          "base_uri": "https://localhost:8080/",
          "height": 35
        },
        "outputId": "c56aaba5-5d3b-4ae2-f019-5231271b06f1"
      },
      "source": [
        "\"\"\"from sklearn.preprocessing import LabelEncoder\n",
        "le=LabelEncoder()\n",
        "x=df.columns.values\n",
        "for x in col:\n",
        "  if df[x].dtype!=int:\n",
        "    df[x]=le.fit_transform(df[x])\"\"\""
      ],
      "execution_count": 26,
      "outputs": [
        {
          "output_type": "execute_result",
          "data": {
            "application/vnd.google.colaboratory.intrinsic+json": {
              "type": "string"
            },
            "text/plain": [
              "'from sklearn.preprocessing import LabelEncoder\\nle=LabelEncoder()\\nx=df.columns.values\\nfor x in col:\\n  if df[x].dtype!=int:\\n    df[x]=le.fit_transform(df[x])'"
            ]
          },
          "metadata": {
            "tags": []
          },
          "execution_count": 26
        }
      ]
    },
    {
      "cell_type": "code",
      "metadata": {
        "id": "KtxevCRgo_ow"
      },
      "source": [
        "#df.head(20)"
      ],
      "execution_count": 27,
      "outputs": []
    },
    {
      "cell_type": "code",
      "metadata": {
        "id": "KNgH2TedpCLI",
        "colab": {
          "base_uri": "https://localhost:8080/"
        },
        "outputId": "a054a54d-81e2-4e7a-89b3-a95d3dd11d83"
      },
      "source": [
        "#from sklearn.preprocessing import StandardScaler\n",
        "df['State'].value_counts()"
      ],
      "execution_count": 36,
      "outputs": [
        {
          "output_type": "execute_result",
          "data": {
            "text/plain": [
              "California              99739\n",
              "Texas                   61995\n",
              "New York                49181\n",
              "Florida                 37039\n",
              "Michigan                28393\n",
              "Illinois                25860\n",
              "Pennsylvania            24225\n",
              "Georgia                 21061\n",
              "North Carolina          20334\n",
              "Louisiana               19597\n",
              "Ohio                    19128\n",
              "Maryland                17304\n",
              "Virginia                15497\n",
              "Tennessee               14884\n",
              "Missouri                14821\n",
              "New Jersey              14107\n",
              "Arizona                 12842\n",
              "South Carolina          11690\n",
              "Indiana                 11447\n",
              "Alabama                 11306\n",
              "Oklahoma                 8801\n",
              "Washington               7798\n",
              "District of Columbia     7106\n",
              "Arkansas                 6921\n",
              "Colorado                 6589\n",
              "Kentucky                 6545\n",
              "Mississippi              6535\n",
              "Wisconsin                6188\n",
              "Massachusetts            6028\n",
              "Nevada                   5546\n",
              "Connecticut              4892\n",
              "New Mexico               4268\n",
              "Oregon                   4213\n",
              "Minnesota                3971\n",
              "Kansas                   3081\n",
              "West Virginia            3049\n",
              "Utah                     2026\n",
              "Iowa                     1748\n",
              "Alaska                   1614\n",
              "Hawaii                   1338\n",
              "Nebraska                 1331\n",
              "Rhodes Island            1210\n",
              "Delaware                 1171\n",
              "Idaho                    1150\n",
              "Maine                     869\n",
              "New Hampshire             654\n",
              "Wyoming                   630\n",
              "Montana                   599\n",
              "South Dakota              438\n",
              "Vermont                   412\n",
              "North Dakota              308\n",
              "Name: State, dtype: int64"
            ]
          },
          "metadata": {
            "tags": []
          },
          "execution_count": 36
        }
      ]
    },
    {
      "cell_type": "markdown",
      "metadata": {
        "id": "4Y9HawtemFwx"
      },
      "source": [
        "Multiple barplots on the same figure"
      ]
    },
    {
      "cell_type": "code",
      "metadata": {
        "colab": {
          "base_uri": "https://localhost:8080/",
          "height": 792
        },
        "id": "tIPs-Qrjqfjr",
        "outputId": "d9b2effb-0beb-4368-9a05-3b34adb5c39c"
      },
      "source": [
        "f, axes = plt.subplots(2, 2, figsize=(34, 16), sharex=False, sharey=False)\r\n",
        "x = sc['Weapon'].values\r\n",
        "y = sc['Victim Count'].values\r\n",
        "sns.barplot(x, y, ax=axes[0,0])\r\n",
        "axes[0,0].set( title = 'Victim Count per Weapon ')\r\n",
        "\r\n",
        "\r\n",
        "x = sc['Year'].values\r\n",
        "y = sc['Victim Count'].values\r\n",
        "sns.barplot(x, y, ax=axes[0,1])\r\n",
        "axes[0,1].set( title = 'Victim Count per Year')\r\n",
        "\r\n",
        "x = sc['State'].values\r\n",
        "y = sc['Victim Count'].values\r\n",
        "sns.barplot(x, y, ax=axes[1,0])\r\n",
        "axes[1,0].set( title = 'Victim Count per State ')\r\n",
        "\r\n",
        "x = sc['Agency Type'].values\r\n",
        "y = sc['Victim Count'].values\r\n",
        "sns.barplot(x, y, ax=axes[1,1])\r\n",
        "axes[1,1].set( title = 'Victim Count reported by each Agency ')"
      ],
      "execution_count": 37,
      "outputs": [
        {
          "output_type": "stream",
          "text": [
            "/usr/local/lib/python3.6/dist-packages/seaborn/_decorators.py:43: FutureWarning: Pass the following variables as keyword args: x, y. From version 0.12, the only valid positional argument will be `data`, and passing other arguments without an explicit keyword will result in an error or misinterpretation.\n",
            "  FutureWarning\n",
            "/usr/local/lib/python3.6/dist-packages/seaborn/_decorators.py:43: FutureWarning: Pass the following variables as keyword args: x, y. From version 0.12, the only valid positional argument will be `data`, and passing other arguments without an explicit keyword will result in an error or misinterpretation.\n",
            "  FutureWarning\n",
            "/usr/local/lib/python3.6/dist-packages/seaborn/_decorators.py:43: FutureWarning: Pass the following variables as keyword args: x, y. From version 0.12, the only valid positional argument will be `data`, and passing other arguments without an explicit keyword will result in an error or misinterpretation.\n",
            "  FutureWarning\n",
            "/usr/local/lib/python3.6/dist-packages/seaborn/_decorators.py:43: FutureWarning: Pass the following variables as keyword args: x, y. From version 0.12, the only valid positional argument will be `data`, and passing other arguments without an explicit keyword will result in an error or misinterpretation.\n",
            "  FutureWarning\n"
          ],
          "name": "stderr"
        },
        {
          "output_type": "execute_result",
          "data": {
            "text/plain": [
              "[Text(0.5, 1.0, 'Victim Count reported by each Agency ')]"
            ]
          },
          "metadata": {
            "tags": []
          },
          "execution_count": 37
        },
        {
          "output_type": "display_data",
          "data": {
            "image/png": "[encoded data removed]",
            "text/plain": [
              "<Figure size 2448x1152 with 4 Axes>"
            ]
          },
          "metadata": {
            "tags": [],
            "needs_background": "light"
          }
        }
      ]
    },
    {
      "cell_type": "markdown",
      "metadata": {
        "id": "ZXZ6eEKXrG_8"
      },
      "source": [
        "FacetGrid in order to correlate between more than 2 features"
      ]
    },
    {
      "cell_type": "code",
      "metadata": {
        "id": "dAK_zJ0Yr5Q1",
        "colab": {
          "base_uri": "https://localhost:8080/",
          "height": 452
        },
        "outputId": "85b4ba0d-faec-4ec3-ae8c-75b5a5d9c115"
      },
      "source": [
        "g=sns.FacetGrid(df,row='Victim Sex',col='Crime Solved',height=4,aspect=3)\r\n",
        "g.map(plt.hist,'Victim Age',bins=20)\r\n",
        "g.add_legend()"
      ],
      "execution_count": 39,
      "outputs": [
        {
          "output_type": "execute_result",
          "data": {
            "text/plain": [
              "<seaborn.axisgrid.FacetGrid at 0x7ff63be2beb8>"
            ]
          },
          "metadata": {
            "tags": []
          },
          "execution_count": 39
        },
        {
          "output_type": "display_data",
          "data": {
            "image/png": "[encoded data removed]",
            "text/plain": [
              "<Figure size 1736x576 with 4 Axes>"
            ]
          },
          "metadata": {
            "tags": [],
            "needs_background": "light"
          }
        }
      ]
    },
    {
      "cell_type": "code",
      "metadata": {
        "id": "qu1bEE4KrWVa"
      },
      "source": [
        ""
      ],
      "execution_count": null,
      "outputs": []
    }
  ]
}